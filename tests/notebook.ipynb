{
 "cells": [
  {
   "cell_type": "code",
   "execution_count": 6,
   "id": "f01d227a",
   "metadata": {},
   "outputs": [],
   "source": [
    "import os\n",
    "from huggingface_hub import InferenceClient\n",
    "from dotenv import load_dotenv\n",
    "\n",
    "load_dotenv()\n",
    "\n",
    "subject_image = \"test_image.jpg\"\n",
    "output_dir = \"./outputs/\"\n",
    "\n",
    "client = InferenceClient(\n",
    "    provider=\"fal-ai\",\n",
    "    api_key=os.environ[\"HF_TOKEN\"],\n",
    ")\n",
    "\n",
    "with open(subject_image, \"rb\") as image_file:\n",
    "   input_image = image_file.read()\n",
    "\n",
    "# output is a PIL.Image object\n",
    "for interation in range(3):\n",
    "    image = client.image_to_image(\n",
    "        input_image,\n",
    "        prompt=\"Generate the image of the person seating in cinema hall watching a movie, different facial expression, different angle, different lighting, different background\",\n",
    "        model=\"Qwen/Qwen-Image-Edit\",\n",
    "        guidance_scale=0.2,\n",
    "    )\n",
    "\n",
    "    image.save(f\"{output_dir}v{interation}.png\")\n"
   ]
  },
  {
   "cell_type": "code",
   "execution_count": 3,
   "id": "25480cab",
   "metadata": {},
   "outputs": [],
   "source": [
    "import os\n",
    "from huggingface_hub import InferenceClient\n",
    "\n",
    "subject_image = \"test_image.jpg\"\n",
    "\n",
    "client = InferenceClient(\n",
    "    provider=\"fal-ai\",\n",
    "    api_key=os.environ[\"HF_TOKEN\"],\n",
    ")\n",
    "\n",
    "with open(subject_image, \"rb\") as image_file:\n",
    "   input_image = image_file.read()\n",
    "\n",
    "# output is a PIL.Image object\n",
    "image = client.image_to_image(\n",
    "    input_image,\n",
    "    prompt=\"Watching movie in cinema hall\",\n",
    "    model=\"black-forest-labs/FLUX.1-Kontext-dev\",\n",
    ")\n",
    "image.save(\"edited_image.png\")"
   ]
  },
  {
   "cell_type": "code",
   "execution_count": null,
   "id": "d6298d59",
   "metadata": {},
   "outputs": [
    {
     "name": "stderr",
     "output_type": "stream",
     "text": [
      "/mnt/Linux/Projects/object&image-to-image-model/venv/lib/python3.13/site-packages/tqdm/auto.py:21: TqdmWarning: IProgress not found. Please update jupyter and ipywidgets. See https://ipywidgets.readthedocs.io/en/stable/user_install.html\n",
      "  from .autonotebook import tqdm as notebook_tqdm\n"
     ]
    },
    {
     "ename": "HfHubHTTPError",
     "evalue": "402 Client Error: Payment Required for url: https://router.huggingface.co/fal-ai/fal-ai/qwen-image-edit?_subdomain=queue (Request ID: Root=1-68db543d-6b6eff8c69e2c8d81b7b35be;3b338d76-0c1a-40a0-8cac-6e37683b87cf)\n\nYou have exceeded your monthly included credits for Inference Providers. Subscribe to PRO to get 20x more monthly included credits.",
     "output_type": "error",
     "traceback": [
      "\u001b[31m---------------------------------------------------------------------------\u001b[39m",
      "\u001b[31mHTTPError\u001b[39m                                 Traceback (most recent call last)",
      "\u001b[36mFile \u001b[39m\u001b[32m/mnt/Linux/Projects/object&image-to-image-model/venv/lib/python3.13/site-packages/huggingface_hub/utils/_http.py:407\u001b[39m, in \u001b[36mhf_raise_for_status\u001b[39m\u001b[34m(response, endpoint_name)\u001b[39m\n\u001b[32m    406\u001b[39m \u001b[38;5;28;01mtry\u001b[39;00m:\n\u001b[32m--> \u001b[39m\u001b[32m407\u001b[39m     \u001b[43mresponse\u001b[49m\u001b[43m.\u001b[49m\u001b[43mraise_for_status\u001b[49m\u001b[43m(\u001b[49m\u001b[43m)\u001b[49m\n\u001b[32m    408\u001b[39m \u001b[38;5;28;01mexcept\u001b[39;00m HTTPError \u001b[38;5;28;01mas\u001b[39;00m e:\n",
      "\u001b[36mFile \u001b[39m\u001b[32m/mnt/Linux/Projects/object&image-to-image-model/venv/lib/python3.13/site-packages/requests/models.py:1026\u001b[39m, in \u001b[36mResponse.raise_for_status\u001b[39m\u001b[34m(self)\u001b[39m\n\u001b[32m   1025\u001b[39m \u001b[38;5;28;01mif\u001b[39;00m http_error_msg:\n\u001b[32m-> \u001b[39m\u001b[32m1026\u001b[39m     \u001b[38;5;28;01mraise\u001b[39;00m HTTPError(http_error_msg, response=\u001b[38;5;28mself\u001b[39m)\n",
      "\u001b[31mHTTPError\u001b[39m: 402 Client Error: Payment Required for url: https://router.huggingface.co/fal-ai/fal-ai/qwen-image-edit?_subdomain=queue",
      "\nThe above exception was the direct cause of the following exception:\n",
      "\u001b[31mHfHubHTTPError\u001b[39m                            Traceback (most recent call last)",
      "\u001b[36mCell\u001b[39m\u001b[36m \u001b[39m\u001b[32mIn[1]\u001b[39m\u001b[32m, line 6\u001b[39m\n\u001b[32m      3\u001b[39m client = InferenceClient(model=\u001b[33m\"\u001b[39m\u001b[33mQwen/Qwen-Image-Edit\u001b[39m\u001b[33m\"\u001b[39m)\n\u001b[32m      4\u001b[39m url = \u001b[33m\"\u001b[39m\u001b[33mhttps://qianwen-res.oss-cn-beijing.aliyuncs.com/Qwen-Image/edit_homepage.jpg\u001b[39m\u001b[33m\"\u001b[39m \u001b[38;5;66;03m# (1312, 800)\u001b[39;00m\n\u001b[32m----> \u001b[39m\u001b[32m6\u001b[39m img = \u001b[43mclient\u001b[49m\u001b[43m.\u001b[49m\u001b[43mimage_to_image\u001b[49m\u001b[43m(\u001b[49m\n\u001b[32m      7\u001b[39m \u001b[43m    \u001b[49m\u001b[43murl\u001b[49m\u001b[43m,\u001b[49m\n\u001b[32m      8\u001b[39m \u001b[43m    \u001b[49m\u001b[43mprompt\u001b[49m\u001b[43m=\u001b[49m\u001b[33;43m\"\u001b[39;49m\u001b[33;43mcinematic lighting\u001b[39;49m\u001b[33;43m\"\u001b[39;49m\u001b[43m,\u001b[49m\n\u001b[32m      9\u001b[39m \u001b[43m    \u001b[49m\u001b[43mtarget_size\u001b[49m\u001b[43m \u001b[49m\u001b[43m=\u001b[49m\u001b[43m \u001b[49m\u001b[43m{\u001b[49m\u001b[33;43m\"\u001b[39;49m\u001b[33;43mheight\u001b[39;49m\u001b[33;43m\"\u001b[39;49m\u001b[43m:\u001b[49m\u001b[43m \u001b[49m\u001b[32;43m556\u001b[39;49m\u001b[43m,\u001b[49m\u001b[43m \u001b[49m\u001b[33;43m\"\u001b[39;49m\u001b[33;43mwidth\u001b[39;49m\u001b[33;43m\"\u001b[39;49m\u001b[43m:\u001b[49m\u001b[43m \u001b[49m\u001b[32;43m556\u001b[39;49m\u001b[43m}\u001b[49m\u001b[43m,\u001b[49m\n\u001b[32m     10\u001b[39m \u001b[43m    \u001b[49m\u001b[43mprovider\u001b[49m\u001b[43m=\u001b[49m\u001b[33;43m\"\u001b[39;49m\u001b[33;43mfal-ai\u001b[39;49m\u001b[33;43m\"\u001b[39;49m\u001b[43m,\u001b[49m\n\u001b[32m     11\u001b[39m \u001b[43m)\u001b[49m\n\u001b[32m     12\u001b[39m \u001b[38;5;28mprint\u001b[39m(img.size) \u001b[38;5;66;03m# (128, 128) ❌ (1312, 800) ✅\u001b[39;00m\n\u001b[32m     13\u001b[39m img.save(\u001b[33m\"\u001b[39m\u001b[33mout.jpg\u001b[39m\u001b[33m\"\u001b[39m)\n",
      "\u001b[36mFile \u001b[39m\u001b[32m/mnt/Linux/Projects/object&image-to-image-model/venv/lib/python3.13/site-packages/huggingface_hub/inference/_client.py:1335\u001b[39m, in \u001b[36mInferenceClient.image_to_image\u001b[39m\u001b[34m(self, image, prompt, negative_prompt, num_inference_steps, guidance_scale, model, target_size, **kwargs)\u001b[39m\n\u001b[32m   1320\u001b[39m provider_helper = get_provider_helper(\u001b[38;5;28mself\u001b[39m.provider, task=\u001b[33m\"\u001b[39m\u001b[33mimage-to-image\u001b[39m\u001b[33m\"\u001b[39m, model=model_id)\n\u001b[32m   1321\u001b[39m request_parameters = provider_helper.prepare_request(\n\u001b[32m   1322\u001b[39m     inputs=image,\n\u001b[32m   1323\u001b[39m     parameters={\n\u001b[32m   (...)\u001b[39m\u001b[32m   1333\u001b[39m     api_key=\u001b[38;5;28mself\u001b[39m.token,\n\u001b[32m   1334\u001b[39m )\n\u001b[32m-> \u001b[39m\u001b[32m1335\u001b[39m response = \u001b[38;5;28;43mself\u001b[39;49m\u001b[43m.\u001b[49m\u001b[43m_inner_post\u001b[49m\u001b[43m(\u001b[49m\u001b[43mrequest_parameters\u001b[49m\u001b[43m)\u001b[49m\n\u001b[32m   1336\u001b[39m response = provider_helper.get_response(response, request_parameters)\n\u001b[32m   1337\u001b[39m \u001b[38;5;28;01mreturn\u001b[39;00m _bytes_to_image(response)\n",
      "\u001b[36mFile \u001b[39m\u001b[32m/mnt/Linux/Projects/object&image-to-image-model/venv/lib/python3.13/site-packages/huggingface_hub/inference/_client.py:275\u001b[39m, in \u001b[36mInferenceClient._inner_post\u001b[39m\u001b[34m(self, request_parameters, stream)\u001b[39m\n\u001b[32m    272\u001b[39m     \u001b[38;5;28;01mraise\u001b[39;00m InferenceTimeoutError(\u001b[33mf\u001b[39m\u001b[33m\"\u001b[39m\u001b[33mInference call timed out: \u001b[39m\u001b[38;5;132;01m{\u001b[39;00mrequest_parameters.url\u001b[38;5;132;01m}\u001b[39;00m\u001b[33m\"\u001b[39m) \u001b[38;5;28;01mfrom\u001b[39;00m\u001b[38;5;250m \u001b[39m\u001b[34;01merror\u001b[39;00m  \u001b[38;5;66;03m# type: ignore\u001b[39;00m\n\u001b[32m    274\u001b[39m \u001b[38;5;28;01mtry\u001b[39;00m:\n\u001b[32m--> \u001b[39m\u001b[32m275\u001b[39m     \u001b[43mhf_raise_for_status\u001b[49m\u001b[43m(\u001b[49m\u001b[43mresponse\u001b[49m\u001b[43m)\u001b[49m\n\u001b[32m    276\u001b[39m     \u001b[38;5;28;01mreturn\u001b[39;00m response.iter_lines() \u001b[38;5;28;01mif\u001b[39;00m stream \u001b[38;5;28;01melse\u001b[39;00m response.content\n\u001b[32m    277\u001b[39m \u001b[38;5;28;01mexcept\u001b[39;00m HTTPError \u001b[38;5;28;01mas\u001b[39;00m error:\n",
      "\u001b[36mFile \u001b[39m\u001b[32m/mnt/Linux/Projects/object&image-to-image-model/venv/lib/python3.13/site-packages/huggingface_hub/utils/_http.py:480\u001b[39m, in \u001b[36mhf_raise_for_status\u001b[39m\u001b[34m(response, endpoint_name)\u001b[39m\n\u001b[32m    476\u001b[39m     \u001b[38;5;28;01mraise\u001b[39;00m _format(HfHubHTTPError, message, response) \u001b[38;5;28;01mfrom\u001b[39;00m\u001b[38;5;250m \u001b[39m\u001b[34;01me\u001b[39;00m\n\u001b[32m    478\u001b[39m \u001b[38;5;66;03m# Convert `HTTPError` into a `HfHubHTTPError` to display request information\u001b[39;00m\n\u001b[32m    479\u001b[39m \u001b[38;5;66;03m# as well (request id and/or server error message)\u001b[39;00m\n\u001b[32m--> \u001b[39m\u001b[32m480\u001b[39m \u001b[38;5;28;01mraise\u001b[39;00m _format(HfHubHTTPError, \u001b[38;5;28mstr\u001b[39m(e), response) \u001b[38;5;28;01mfrom\u001b[39;00m\u001b[38;5;250m \u001b[39m\u001b[34;01me\u001b[39;00m\n",
      "\u001b[31mHfHubHTTPError\u001b[39m: 402 Client Error: Payment Required for url: https://router.huggingface.co/fal-ai/fal-ai/qwen-image-edit?_subdomain=queue (Request ID: Root=1-68db543d-6b6eff8c69e2c8d81b7b35be;3b338d76-0c1a-40a0-8cac-6e37683b87cf)\n\nYou have exceeded your monthly included credits for Inference Providers. Subscribe to PRO to get 20x more monthly included credits."
     ]
    }
   ],
   "source": [
    "from huggingface_hub import InferenceClient, ImageToImageTargetSize\n",
    "\n",
    "client = InferenceClient(model=\"Qwen/Qwen-Image-Edit\")\n",
    "url = \"https://qianwen-res.oss-cn-beijing.aliyuncs.com/Qwen-Image/edit_homepage.jpg\" # (1312, 800)\n",
    "\n",
    "img = client.image_to_image(\n",
    "    url,\n",
    "    prompt=\"cinematic lighting\",\n",
    "    target_size = {\"height\": 256, \"width\": 256},\n",
    "    provider=\"fal-ai\",\n",
    ")\n",
    "print(img.size) # (256, 256)\n",
    "img.save(\"out.jpg\")"
   ]
  }
 ],
 "metadata": {
  "kernelspec": {
   "display_name": "venv",
   "language": "python",
   "name": "python3"
  },
  "language_info": {
   "codemirror_mode": {
    "name": "ipython",
    "version": 3
   },
   "file_extension": ".py",
   "mimetype": "text/x-python",
   "name": "python",
   "nbconvert_exporter": "python",
   "pygments_lexer": "ipython3",
   "version": "3.13.5"
  }
 },
 "nbformat": 4,
 "nbformat_minor": 5
}
