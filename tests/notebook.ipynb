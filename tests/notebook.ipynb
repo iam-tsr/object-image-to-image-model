{
 "cells": [
  {
   "cell_type": "code",
   "execution_count": 6,
   "id": "f01d227a",
   "metadata": {},
   "outputs": [],
   "source": [
    "import os\n",
    "from huggingface_hub import InferenceClient\n",
    "from dotenv import load_dotenv\n",
    "\n",
    "load_dotenv()\n",
    "\n",
    "subject_image = \"test_image.jpg\"\n",
    "output_dir = \"./outputs/\"\n",
    "\n",
    "client = InferenceClient(\n",
    "    provider=\"fal-ai\",\n",
    "    api_key=os.environ[\"HF_TOKEN\"],\n",
    ")\n",
    "\n",
    "with open(subject_image, \"rb\") as image_file:\n",
    "   input_image = image_file.read()\n",
    "\n",
    "# output is a PIL.Image object\n",
    "for interation in range(3):\n",
    "    image = client.image_to_image(\n",
    "        input_image,\n",
    "        prompt=\"Generate the image of the person seating in cinema hall watching a movie, different facial expression, different angle, different lighting, different background\",\n",
    "        model=\"Qwen/Qwen-Image-Edit\",\n",
    "        guidance_scale=0.2,\n",
    "    )\n",
    "\n",
    "    image.save(f\"{output_dir}v{interation}.png\")\n"
   ]
  },
  {
   "cell_type": "code",
   "execution_count": 3,
   "id": "25480cab",
   "metadata": {},
   "outputs": [],
   "source": [
    "import os\n",
    "from huggingface_hub import InferenceClient\n",
    "\n",
    "subject_image = \"test_image.jpg\"\n",
    "\n",
    "client = InferenceClient(\n",
    "    provider=\"fal-ai\",\n",
    "    api_key=os.environ[\"HF_TOKEN\"],\n",
    ")\n",
    "\n",
    "with open(subject_image, \"rb\") as image_file:\n",
    "   input_image = image_file.read()\n",
    "\n",
    "# output is a PIL.Image object\n",
    "image = client.image_to_image(\n",
    "    input_image,\n",
    "    prompt=\"Watching movie in cinema hall\",\n",
    "    model=\"black-forest-labs/FLUX.1-Kontext-dev\",\n",
    ")\n",
    "image.save(\"edited_image.png\")"
   ]
  },
  {
   "cell_type": "code",
   "execution_count": 1,
   "id": "d6298d59",
   "metadata": {},
   "outputs": [
    {
     "name": "stderr",
     "output_type": "stream",
     "text": [
      "/mnt/Linux/Applications/Anaconda/envs/torch/lib/python3.12/site-packages/tqdm/auto.py:21: TqdmWarning: IProgress not found. Please update jupyter and ipywidgets. See https://ipywidgets.readthedocs.io/en/stable/user_install.html\n",
      "  from .autonotebook import tqdm as notebook_tqdm\n"
     ]
    },
    {
     "name": "stdout",
     "output_type": "stream",
     "text": [
      "(1312, 800)\n"
     ]
    }
   ],
   "source": [
    "from huggingface_hub import InferenceClient, ImageToImageTargetSize\n",
    "\n",
    "client = InferenceClient(model=\"Qwen/Qwen-Image-Edit\")\n",
    "url = \"https://qianwen-res.oss-cn-beijing.aliyuncs.com/Qwen-Image/edit_homepage.jpg\" # (1312, 800)\n",
    "\n",
    "img = client.image_to_image(\n",
    "    url,\n",
    "    prompt=\"cinematic lighting\",\n",
    "    target_size=ImageToImageTargetSize(height=256, width=256),\n",
    "    provider=\"fal\"\n",
    ")\n",
    "print(img.size) # (1312, 800)\n",
    "img.save(\"out.jpg\")"
   ]
  }
 ],
 "metadata": {
  "kernelspec": {
   "display_name": "torch",
   "language": "python",
   "name": "python3"
  },
  "language_info": {
   "codemirror_mode": {
    "name": "ipython",
    "version": 3
   },
   "file_extension": ".py",
   "mimetype": "text/x-python",
   "name": "python",
   "nbconvert_exporter": "python",
   "pygments_lexer": "ipython3",
   "version": "3.12.0"
  }
 },
 "nbformat": 4,
 "nbformat_minor": 5
}
